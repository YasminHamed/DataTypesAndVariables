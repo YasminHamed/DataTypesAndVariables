{
 "cells": [
  {
   "cell_type": "markdown",
   "id": "8fd6d618",
   "metadata": {},
   "source": [
    "##Data types and variables Homework"
   ]
  },
  {
   "cell_type": "code",
   "execution_count": 5,
   "id": "8aad81eb",
   "metadata": {},
   "outputs": [
    {
     "name": "stdout",
     "output_type": "stream",
     "text": [
      "Enter first number:15\n",
      "Enter second number:10\n",
      "15.0 + 10.0 = 25.0\n",
      "15.0 - 10.0 = 5.0\n",
      "15.0 * 10.0 = 150.0\n",
      "15.0 / 10.0 = 1.5\n"
     ]
    }
   ],
   "source": [
    "\"\"\"\n",
    "Write a program that reads 2 numbers and print their + - * / \n",
    "\"\"\"\n",
    "\n",
    "#inputs from user(2 numbers)\n",
    "number1 = input(\"Enter first number:\")\n",
    "number2 = input(\"Enter second number:\")\n",
    "\n",
    "#calculate the total (+ - * / )\n",
    "add = float(number1) + float(number2)\n",
    "subtract = float(number1) - float(number2)\n",
    "mltiply = float(number1) * float(number2)\n",
    "divide = float(number1) / float(number2)\n",
    "print(\"\\n\") #break\n",
    "\n",
    "#print their + - * / \n",
    "print(float(number1) ,\"+\",float(number2),\"=\", float(add))\n",
    "print(float(number1) ,\"-\",float(number2),\"=\", float(subtract))\n",
    "print(float(number1) ,\"*\",float(number2),\"=\", float(mltiply))\n",
    "print(float(number1) ,\"/\",float(number2),\"=\", float(divide))"
   ]
  },
  {
   "cell_type": "code",
   "execution_count": 8,
   "id": "fd00b4ba",
   "metadata": {},
   "outputs": [
    {
     "name": "stdout",
     "output_type": "stream",
     "text": [
      "Enter the first student's name:yasmin\n",
      "Enter the first student's ID:123\n",
      "Enter the first student's grade:55\n",
      "\n",
      "\n",
      "Enter the second student's name:maraim\n",
      "Enter the second student's ID:987\n",
      "Enter the second student's grade:75\n",
      "\n",
      "\n",
      "Informat for students and their 'Math' grades\n",
      "yasmin (ID 123 ) got grade: 55.0\n",
      "maraim (ID 987 ) got grade: 75.0\n",
      "Average math grade is 65.0\n"
     ]
    }
   ],
   "source": [
    "\"\"\"\n",
    "Write a program that reads 2 students information about math exam\n",
    "For each student read: his name, id and grade\n",
    "Print the students\n",
    "Print the grades average\n",
    "\"\"\"\n",
    "\n",
    "#input from user first student's(name, id and grade)\n",
    "name1 = input(\"Enter the first student's name:\")\n",
    "id1 = input(\"Enter the first student's ID:\")\n",
    "grade1 = input(\"Enter the first student's grade:\")\n",
    "print(\"\\n\") #break\n",
    "\n",
    "##input from user second student's(name, id and grade)\n",
    "name2 = input(\"Enter the second student's name:\")\n",
    "id2 = input(\"Enter the second student's ID:\")\n",
    "grade2 = input(\"Enter the second student's grade:\")\n",
    "print(\"\\n\") #break\n",
    "\n",
    "print(\"Informat for students and their 'Math' grades\")\n",
    "\n",
    "#students(name, id and grade)\n",
    "print(name1,\"(ID\",id1,\")\",\"got grade:\",float(grade1))\n",
    "print(name2,\"(ID\",id2,\")\",\"got grade:\",float(grade2))\n",
    "\n",
    "#calculate average grade and show it\n",
    "average = (float(grade1) + float(grade2)) / 2\n",
    "print(\"Average math grade is\",float(average))"
   ]
  },
  {
   "cell_type": "code",
   "execution_count": 8,
   "id": "f0cb29eb",
   "metadata": {},
   "outputs": [
    {
     "name": "stdout",
     "output_type": "stream",
     "text": [
      "Enter first word:yasmin\n",
      "Enter second word:loves\n",
      "Enter second third:coding\n",
      "yasmin loves coding\n",
      "yasmin loves coding\n",
      "yasmin loves coding\n",
      "yasmin loves coding\n",
      "yasmin loves coding\n",
      "yasmin loves coding\n",
      "yasmin loves coding\n",
      "yasmin loves coding\n",
      "yasmin loves coding\n",
      "yasmin loves coding\n"
     ]
    }
   ],
   "source": [
    "\"\"\"\n",
    "Write a program that read 3 strings.\n",
    "For simplicity let’s say input is 3 letters A, B and C\n",
    "The output is A’B”C repeated 10 times\n",
    "A’B”CA’B”CA’B”CA’B”CA’B”CA’B”CA’B”CA’B”CA’B”CA’B”C\n",
    "\"\"\"\n",
    "\n",
    "#inputs from user(3 strings)\n",
    "string1 = input(\"Enter first word:\")\n",
    "string2 = input(\"Enter second word:\")\n",
    "string3 = input(\"Enter second third:\")\n",
    "\n",
    "s = [string1, string2, string3]\n",
    "#convert it from array to string\n",
    "listToStr = ' '.join([str(elem) for elem in s])\n",
    "\n",
    "#repeat it 10 times\n",
    "for i in range(10):\n",
    "    print(listToStr)"
   ]
  },
  {
   "cell_type": "code",
   "execution_count": 10,
   "id": "ff2abcdb",
   "metadata": {},
   "outputs": [
    {
     "name": "stdout",
     "output_type": "stream",
     "text": [
      "12 54\n",
      "54 12\n"
     ]
    }
   ],
   "source": [
    "\"\"\"\n",
    "Swapping 2 numbers!\n",
    "\"\"\"\n",
    "\n",
    "#inputs from user(2 numbers)\n",
    "num1, num2 = map(int, input().split())\n",
    "\n",
    "#swap them\n",
    "print(num2, num1)"
   ]
  },
  {
   "cell_type": "code",
   "execution_count": null,
   "id": "f443d36e",
   "metadata": {},
   "outputs": [],
   "source": []
  },
  {
   "cell_type": "code",
   "execution_count": null,
   "id": "3b1ec537",
   "metadata": {},
   "outputs": [],
   "source": []
  }
 ],
 "metadata": {
  "kernelspec": {
   "display_name": "Python 3 (ipykernel)",
   "language": "python",
   "name": "python3"
  },
  "language_info": {
   "codemirror_mode": {
    "name": "ipython",
    "version": 3
   },
   "file_extension": ".py",
   "mimetype": "text/x-python",
   "name": "python",
   "nbconvert_exporter": "python",
   "pygments_lexer": "ipython3",
   "version": "3.9.12"
  }
 },
 "nbformat": 4,
 "nbformat_minor": 5
}
